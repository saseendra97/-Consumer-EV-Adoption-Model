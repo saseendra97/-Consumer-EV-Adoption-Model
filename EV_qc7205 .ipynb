{
 "cells": [
  {
   "cell_type": "code",
   "execution_count": 21,
   "id": "71ac6355",
   "metadata": {},
   "outputs": [],
   "source": [
    "import pandas as pd\n",
    "import numpy as np\n",
    "from sklearn.model_selection import train_test_split\n",
    "from sklearn.preprocessing import StandardScaler, OneHotEncoder, PolynomialFeatures\n",
    "from sklearn.compose import ColumnTransformer\n",
    "from sklearn.pipeline import Pipeline\n",
    "import xgboost as xgb\n",
    "from sklearn.metrics import accuracy_score\n",
    "from itertools import combinations"
   ]
  },
  {
   "cell_type": "code",
   "execution_count": 22,
   "id": "61e7fa18",
   "metadata": {},
   "outputs": [],
   "source": [
    "df = pd.read_csv('EV_train.csv')"
   ]
  },
  {
   "cell_type": "code",
   "execution_count": 23,
   "id": "6538dadb",
   "metadata": {},
   "outputs": [],
   "source": [
    "numerical_cols = df.select_dtypes(include=['int64', 'float64']).columns\n",
    "for col in numerical_cols:\n",
    "    Q1 = df[col].quantile(0.25)\n",
    "    Q3 = df[col].quantile(0.75)\n",
    "    IQR = Q3 - Q1\n",
    "    lower_bound = Q1 - 1.5 * IQR\n",
    "    upper_bound = Q3 + 1.5 * IQR\n",
    "    df[col] = np.where(df[col] < lower_bound, lower_bound, df[col])\n",
    "    df[col] = np.where(df[col] > upper_bound, upper_bound, df[col])"
   ]
  },
  {
   "cell_type": "code",
   "execution_count": 24,
   "id": "aadbc0ea",
   "metadata": {},
   "outputs": [],
   "source": [
    "X = df.drop([\"BuyEV\", \"state_precip\", \"state_high_temp\", \"race\", \"license\"], axis=1)\n",
    "y = df['BuyEV']\n",
    "\n",
    "numerical_cols_updated = X.select_dtypes(include=['int64', 'float64']).columns\n"
   ]
  },
  {
   "cell_type": "code",
   "execution_count": 25,
   "id": "363a2130",
   "metadata": {},
   "outputs": [],
   "source": [
    "\n",
    "numerical_transformer = Pipeline(steps=[\n",
    "    ('scaler', StandardScaler()),\n",
    "    ('poly', PolynomialFeatures(degree=2, include_bias=False))\n",
    "])\n",
    "\n",
    "categorical_cols = X.select_dtypes(include=['object']).columns\n",
    "categorical_transformer = Pipeline(steps=[\n",
    "    ('onehot', OneHotEncoder(handle_unknown='ignore'))\n",
    "])\n",
    "\n",
    "preprocessor = ColumnTransformer(\n",
    "    transformers=[\n",
    "        ('num', numerical_transformer, numerical_cols_updated),\n",
    "        ('cat', categorical_transformer, categorical_cols)])"
   ]
  },
  {
   "cell_type": "code",
   "execution_count": 26,
   "id": "4fec10f3",
   "metadata": {},
   "outputs": [],
   "source": [
    "X_train, X_test, y_train, y_test = train_test_split(X, y, test_size=0.2, random_state=42)\n",
    "\n",
    "X_train_transformed = preprocessor.fit_transform(X_train)\n",
    "X_test_transformed = preprocessor.transform(X_test)\n",
    "dtrain = xgb.DMatrix(X_train_transformed, label=y_train)\n",
    "dtest = xgb.DMatrix(X_test_transformed, label=y_test)"
   ]
  },
  {
   "cell_type": "code",
   "execution_count": 27,
   "id": "55571a34",
   "metadata": {},
   "outputs": [
    {
     "name": "stdout",
     "output_type": "stream",
     "text": [
      "Best logloss: 0.5133258093215258, at round: 1050\n"
     ]
    }
   ],
   "source": [
    "params = {\n",
    "    \n",
    "    'reg_lambda':0,\n",
    "    'objective': 'binary:logistic',\n",
    "    'max_depth': 6,\n",
    "    'learning_rate': 0.01,\n",
    "    'subsample': 0.8,\n",
    "    'colsample_bytree': 0.8,\n",
    "    'eval_metric': 'logloss',\n",
    "    'seed': 42,\n",
    "\n",
    "}\n",
    "\n",
    "# Train the model with cross-validation\n",
    "cv_results = xgb.cv(\n",
    "    params=params,\n",
    "    dtrain=dtrain,\n",
    "    num_boost_round=1100,\n",
    "    nfold=5,\n",
    "    early_stopping_rounds=50,\n",
    "    metrics='logloss',\n",
    "    seed=42\n",
    ")\n",
    "\n",
    "print(f\"Best logloss: {cv_results['test-logloss-mean'].min()}, at round: {cv_results['test-logloss-mean'].idxmin()}\")\n"
   ]
  },
  {
   "cell_type": "code",
   "execution_count": 28,
   "id": "02117d2b",
   "metadata": {},
   "outputs": [
    {
     "name": "stdout",
     "output_type": "stream",
     "text": [
      "Test Accuracy: 79.03%\n"
     ]
    }
   ],
   "source": [
    "final_model = xgb.train(\n",
    "    params=params,\n",
    "    dtrain=dtrain,\n",
    "    num_boost_round=cv_results['test-logloss-mean'].idxmin()\n",
    ")\n",
    "\n",
    "preds_prob = final_model.predict(dtest)\n",
    "predictions = [1 if i > 0.5 else 0 for i in preds_prob]\n",
    "accuracy = accuracy_score(y_test, predictions)\n",
    "print(f\"Test Accuracy: {accuracy * 100:.2f}%\")"
   ]
  },
  {
   "cell_type": "code",
   "execution_count": 29,
   "id": "f96a438b",
   "metadata": {},
   "outputs": [
    {
     "name": "stdout",
     "output_type": "stream",
     "text": [
      "Predictions saved to EV_test_pred_qc7205.csv\n"
     ]
    }
   ],
   "source": [
    "test_df = pd.read_csv('EV_X_test.csv')\n",
    "X_test_final = test_df.drop([\"state_precip\", \"state_high_temp\", \"race\", \"license\"], axis=1)\n",
    "\n",
    "X_test_final.head()\n",
    " \n",
    "X_test_final_transformed = preprocessor.transform(X_test_final)\n",
    "\n",
    "dtest_final = xgb.DMatrix(X_test_final_transformed)\n",
    "\n",
    "\n",
    "final_preds_prob = final_model.predict(dtest_final)\n",
    "\n",
    "final_predictions = [1 if i > 0.5 else 0 for i in final_preds_prob]\n",
    "\n",
    "predictions_df = pd.DataFrame(final_predictions, columns=['BuyEV_Prediction'])\n",
    "\n",
    "predictions_df.to_csv('EV_test_pred_qc7205.csv', index=False, header=False)\n",
    "\n",
    "print(\"Predictions saved to EV_test_pred_qc7205.csv\")"
   ]
  },
  {
   "cell_type": "code",
   "execution_count": null,
   "id": "e539f967",
   "metadata": {},
   "outputs": [],
   "source": []
  },
  {
   "cell_type": "code",
   "execution_count": null,
   "id": "4c4d1306",
   "metadata": {},
   "outputs": [],
   "source": []
  },
  {
   "cell_type": "code",
   "execution_count": null,
   "id": "47f2705b",
   "metadata": {},
   "outputs": [],
   "source": []
  },
  {
   "cell_type": "code",
   "execution_count": null,
   "id": "ad852de9",
   "metadata": {},
   "outputs": [],
   "source": []
  },
  {
   "cell_type": "code",
   "execution_count": null,
   "id": "9a0517d9",
   "metadata": {},
   "outputs": [],
   "source": []
  },
  {
   "cell_type": "code",
   "execution_count": null,
   "id": "70c2544c",
   "metadata": {},
   "outputs": [],
   "source": []
  }
 ],
 "metadata": {
  "kernelspec": {
   "display_name": "Python 3 (ipykernel)",
   "language": "python",
   "name": "python3"
  },
  "language_info": {
   "codemirror_mode": {
    "name": "ipython",
    "version": 3
   },
   "file_extension": ".py",
   "mimetype": "text/x-python",
   "name": "python",
   "nbconvert_exporter": "python",
   "pygments_lexer": "ipython3",
   "version": "3.9.12"
  }
 },
 "nbformat": 4,
 "nbformat_minor": 5
}
